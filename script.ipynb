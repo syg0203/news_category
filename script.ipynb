{
 "cells": [
  {
   "cell_type": "code",
   "execution_count": null,
   "id": "30edb828",
   "metadata": {},
   "outputs": [],
   "source": [
    "import os"
   ]
  },
  {
   "cell_type": "code",
   "execution_count": null,
   "id": "823e4304",
   "metadata": {},
   "outputs": [],
   "source": [
    "import numpy as np"
   ]
  },
  {
   "cell_type": "code",
   "execution_count": null,
   "id": "7f86c673",
   "metadata": {},
   "outputs": [],
   "source": [
    "import pandas as pd\n",
    "import numpy as np\n",
    "from sklearn.feature_extraction.text import CountVectorizer\n",
    "from sklearn.model_selection import train_test_split, RandomizedSearchCV\n",
    "from sklearn.metrics import f1_score\n",
    "import xgboost as xgb\n",
    "from sklearn.utils import class_weight"
   ]
  },
  {
   "cell_type": "markdown",
   "id": "ab855fc4",
   "metadata": {},
   "source": [
    "### xgb"
   ]
  },
  {
   "cell_type": "code",
   "execution_count": null,
   "id": "690a94b0",
   "metadata": {},
   "outputs": [],
   "source": [
    "# Load data\n",
    "train_df = pd.read_csv('./data/train.csv')\n",
    "test_df = pd.read_csv('./data/test.csv')\n",
    "\n",
    "# Preprocess text data using CountVectorizer\n",
    "vectorizer = CountVectorizer(lowercase=True, stop_words='english')\n",
    "X = vectorizer.fit_transform(train_df['text'])\n",
    "y = train_df['label']\n",
    "X_test = vectorizer.transform(test_df['text'])\n",
    "\n",
    "# Split data into training and validation sets\n",
    "X_train, X_val, y_train, y_val = train_test_split(X, y, test_size=0.2, random_state=42,stratify=y)\n",
    "\n",
    "# Convert the data types of the features to float64\n",
    "print(\"Converting data types to float64...\")\n",
    "X_train = X_train.astype(np.float64)\n",
    "X_val = X_val.astype(np.float64)\n",
    "\n",
    "\n",
    "# Define class weights to handle imbalanced classes\n",
    "classes_weights = class_weight.compute_sample_weight(\n",
    "    class_weight='balanced',\n",
    "    y=y_train\n",
    ")\n",
    "\n",
    "# Train XGBoost model using RandomizedSearchCV to find optimal hyperparameters\n",
    "xgb_model = xgb.XGBClassifier(objective='multi:softmax', \n",
    "                              num_class=8, \n",
    "                              n_jobs=-1)\n",
    "\n",
    "params = {\n",
    "    'learning_rate': [0.01, 0.1, 1],\n",
    "    'max_depth': [3, 5, 7, 9],\n",
    "    'subsample': [0.5, 0.7, 0.9],\n",
    "    'colsample_bytree': [0.5, 0.7, 0.9],\n",
    "    'reg_lambda': [0, 1, 10],\n",
    "    'gamma': [0, 1, 10]\n",
    "}\n",
    "\n",
    "xgb_search = RandomizedSearchCV(xgb_model, params, cv=5, \n",
    "                                scoring='f1_macro', n_iter=20, \n",
    "                                random_state=42, n_jobs=-1, verbose=10)\n",
    "\n",
    "xgb_search.fit(X_train, y_train, sample_weight=classes_weights,verbose=2)\n",
    "\n",
    "# Evaluate on validation set and make predictions on test set\n",
    "val_pred = xgb_search.predict(X_val)\n",
    "test_pred = xgb_search.predict(X_test)\n",
    "\n",
    "# Calculate macro f1 score on validation set\n",
    "val_f1 = f1_score(y_val, val_pred, average='macro')\n",
    "print(f'Validation F1 score: {val_f1:.4f}')\n",
    "\n",
    "# Save predictions to submission file\n",
    "# submission_df = pd.DataFrame({'id': test_df['id'], 'label': test_pred})\n",
    "# submission_df.to_csv('sample_submission.csv', index=False)"
   ]
  },
  {
   "cell_type": "code",
   "execution_count": null,
   "id": "a0a9b723",
   "metadata": {},
   "outputs": [],
   "source": [
    "xgb_search.best_estimator_"
   ]
  },
  {
   "cell_type": "markdown",
   "id": "dbbe6281",
   "metadata": {},
   "source": [
    "# best1"
   ]
  },
  {
   "cell_type": "code",
   "execution_count": null,
   "id": "6fc4df6d",
   "metadata": {
    "scrolled": true
   },
   "outputs": [],
   "source": [
    "# Load the training data\n",
    "print(\"Loading training data...\")\n",
    "train_df = pd.read_csv('./data/train.csv')\n",
    "\n",
    "# Preprocess the text data by converting it to lowercase using CountVectorizer\n",
    "print(\"Preprocessing text data...\")\n",
    "vectorizer = CountVectorizer(stop_words='english', lowercase=True)\n",
    "X = vectorizer.fit_transform(train_df['text'])\n",
    "y = train_df['label']\n",
    "\n",
    "# Split the data into training and validation sets\n",
    "print(\"Splitting data into training and validation sets...\")\n",
    "X_train, X_val, y_train, y_val = train_test_split(X, y, test_size=0.2, random_state=42,stratify=y)\n",
    "\n",
    "# Convert the data types of the features to float64\n",
    "print(\"Converting data types to float64...\")\n",
    "X_train = X_train.astype(np.float64)\n",
    "X_val = X_val.astype(np.float64)\n",
    "\n",
    "# Calculate class weights to handle imbalanced data\n",
    "print(\"Calculating class weights...\")\n",
    "# class_weights = class_weight.compute_class_weight(class_weight='balanced', classes=np.unique(y_train), y=y_train)\n",
    "classes_weights = class_weight.compute_sample_weight(\n",
    "    class_weight='balanced',\n",
    "    y=y_train\n",
    ")\n",
    "\n",
    "# Train an XGBoost model on the training set\n",
    "print(\"Training XGBoost model...\")\n",
    "# xgb_model = xgb.XGBClassifier(objective='multi:softmax', num_classes=8, max_depth=6, learning_rate=0.5, n_estimators=150, random_state=42)\n",
    "xgb_model = xgb.XGBClassifier(objective='multi:softmax', max_depth=6, learning_rate=0.5, n_estimators=150, random_state=42)\n",
    "xgb_model.fit(X_train, y_train, eval_set=[(X_val, y_val)], early_stopping_rounds=10, eval_metric='mlogloss', sample_weight=classes_weights, verbose=True)\n",
    "\n",
    "# Make predictions on the validation set\n",
    "print(\"Making predictions on the validation set...\")\n",
    "y_pred = xgb_model.predict(X_val)\n",
    "\n",
    "# Evaluate the model using the macro f1 score\n",
    "print(\"Evaluating the model...\")\n",
    "f1 = f1_score(y_val, y_pred, average='macro')\n",
    "print('Macro F1 score:', f1)\n",
    "\n",
    "# Load the test data\n",
    "print(\"Loading test data...\")\n",
    "test_df = pd.read_csv('./data/test.csv')\n",
    "\n",
    "# Preprocess the text data using CountVectorizer\n",
    "print(\"Preprocessing test text data...\")\n",
    "X_test = vectorizer.transform(test_df['text'])\n",
    "X_test = X_test.astype(np.float64)\n",
    "\n",
    "# Make predictions on the test set\n",
    "print(\"Making predictions on the test set...\")\n",
    "test_pred = xgb_model.predict(X_test)\n",
    "\n",
    "# Save the predictions to a submission file\n",
    "print(\"Saving predictions to submission file...\")\n",
    "# submission_df = pd.DataFrame({'id': test_df['id'], 'label': test_pred})\n",
    "# submission_df.to_csv('./data/sample_submission_xgb_class_weight_lower.csv', index=False)"
   ]
  },
  {
   "cell_type": "markdown",
   "id": "64807829",
   "metadata": {},
   "source": [
    "### voting"
   ]
  },
  {
   "cell_type": "code",
   "execution_count": null,
   "id": "ce89a842",
   "metadata": {},
   "outputs": [],
   "source": [
    "import pandas as pd\n",
    "import numpy as np\n",
    "from sklearn.feature_extraction.text import CountVectorizer\n",
    "from sklearn.model_selection import train_test_split\n",
    "from sklearn.linear_model import LogisticRegression\n",
    "from sklearn.svm import LinearSVC\n",
    "from xgboost import XGBClassifier\n",
    "from sklearn.ensemble import VotingClassifier\n",
    "from sklearn.metrics import f1_score\n",
    "from sklearn.utils import class_weight\n",
    "\n",
    "# load the data\n",
    "train_df = pd.read_csv('train.csv')\n",
    "test_df = pd.read_csv('test.csv')\n",
    "submission_df = pd.read_csv('sample_submission.csv')\n",
    "\n",
    "# preprocess the text data using CountVectorizer\n",
    "vectorizer = CountVectorizer(lowercase=True, stop_words='english')\n",
    "X_train = vectorizer.fit_transform(train_df['text'])\n",
    "y_train = train_df['label']\n",
    "\n",
    "# split the data into training and validation sets\n",
    "X_train, X_val, y_train, y_val = train_test_split(X_train, y_train, test_size=0.2, random_state=42)\n",
    "\n",
    "# set class weights to handle class imbalance\n",
    "class_weights = class_weight.compute_class_weight('balanced', np.unique(y_train), y_train)\n",
    "\n",
    "# train the models\n",
    "svc_model = LinearSVC(C=0.1, penalty='l2', class_weight=class_weights, verbose=1)\n",
    "svc_model.fit(X_train, y_train)\n",
    "\n",
    "logistic_model = LogisticRegression(C=10, penalty='l2', class_weight=class_weights, verbose=1)\n",
    "logistic_model.fit(X_train, y_train)\n",
    "\n",
    "sample_weights = class_weight.compute_sample_weight('balanced', y_train)\n",
    "xgb_model = XGBClassifier(max_depth=6, learning_rate=0.5, n_estimators=150, eval_metric='mlogloss')\n",
    "xgb_model.fit(X_train, y_train, sample_weight=sample_weights, eval_set=[(X_val, y_val)], early_stopping_rounds=10, verbose=1)\n",
    "\n",
    "# create the ensemble model\n",
    "estimators = [('svc', svc_model), ('logistic', logistic_model), ('xgb', xgb_model)]\n",
    "voting_model = VotingClassifier(estimators=estimators, voting='hard')\n",
    "\n",
    "# fit the ensemble model on the training data\n",
    "voting_model.fit(X_train, y_train)\n",
    "\n",
    "# evaluate the model on the validation set\n",
    "y_pred = voting_model.predict(X_val)\n",
    "f1_macro = f1_score(y_val, y_pred, average='macro')\n",
    "print('Validation F1-score (macro):', f1_macro)\n",
    "\n",
    "# make predictions on the test data\n",
    "X_test = vectorizer.transform(test_df['text'])\n",
    "y_test_pred = voting_model.predict(X_test)\n",
    "\n",
    "# save the predictions to a CSV file\n",
    "submission_df['label'] = y_test_pred.astype(np.int64)\n",
    "submission_df.to_csv('submission.csv', index=False)"
   ]
  },
  {
   "cell_type": "markdown",
   "id": "8ab62ce8",
   "metadata": {},
   "source": [
    "### boosting"
   ]
  },
  {
   "attachments": {
    "image.png": {
     "image/png": "[encoded data removed]"
    }
   },
   "cell_type": "markdown",
   "id": "cd9fceb0",
   "metadata": {},
   "source": [
    "![image.png](attachment:image.png)"
   ]
  },
  {
   "cell_type": "markdown",
   "id": "3257c16e",
   "metadata": {},
   "source": [
    "#### TfidfVectorizer and final_xgb"
   ]
  },
  {
   "cell_type": "code",
   "execution_count": null,
   "id": "bff6541b",
   "metadata": {
    "scrolled": true
   },
   "outputs": [],
   "source": [
    "import pandas as pd\n",
    "import numpy as np\n",
    "from sklearn.feature_extraction.text import TfidfVectorizer\n",
    "from sklearn.model_selection import train_test_split\n",
    "from sklearn.linear_model import LogisticRegression\n",
    "from sklearn.svm import LinearSVC\n",
    "from xgboost import XGBClassifier\n",
    "from sklearn.ensemble import StackingClassifier\n",
    "from sklearn.metrics import f1_score\n",
    "from sklearn.utils import class_weight\n",
    "\n",
    "# load the data\n",
    "print(\"load the data...\")\n",
    "train_df = pd.read_csv('./data/train.csv')\n",
    "test_df = pd.read_csv('./data/test.csv')\n",
    "submission_df = pd.read_csv('./data/sample_submission.csv')\n",
    "\n",
    "# preprocess the text data using CountVectorizer\n",
    "print(\"preprocess the text data using CountVectorizer...\")\n",
    "vectorizer = TfidfVectorizer(lowercase=True, stop_words='english')\n",
    "X_train = vectorizer.fit_transform(train_df['text'])\n",
    "y_train = train_df['label']\n",
    "\n",
    "# split the data into training and validation sets\n",
    "print(\"split the data into training and validation sets...\")\n",
    "X_train, X_val, y_train, y_val = train_test_split(X_train, y_train, test_size=0.2, random_state=42)\n",
    "\n",
    "# set class weights to handle class imbalance\n",
    "print(\"set class weights to handle class imbalance...\")\n",
    "\n",
    "class_weights = class_weight.compute_sample_weight(\n",
    "    class_weight='balanced',\n",
    "    y=y_train\n",
    ")\n",
    "\n",
    "svc_logi_class_weights = class_weight.compute_class_weight(\n",
    "    class_weight='balanced',\n",
    "    classes= np.unique(y_train),\n",
    "    y=y_train\n",
    ")\n",
    "\n",
    "# train the models\n",
    "print(\"train the models...\")\n",
    "svc_model = LinearSVC(C=0.1, penalty='l2',class_weight=dict(zip(np.unique(y_train), svc_logi_class_weights)), verbose=1)\n",
    "svc_model.fit(X_train, y_train)\n",
    "\n",
    "logistic_model = LogisticRegression(C=10, penalty='l2', class_weight=dict(zip(np.unique(y_train), svc_logi_class_weights)), verbose=1)\n",
    "logistic_model.fit(X_train, y_train)\n",
    "\n",
    "xgb_model = XGBClassifier(max_depth=6, learning_rate=0.5, n_estimators=150, eval_metric='mlogloss')\n",
    "xgb_model.fit(X_train, y_train, sample_weight=class_weights, eval_set=[(X_val, y_val)], early_stopping_rounds=10, verbose=1)\n",
    "\n",
    "# create the ensemble model\n",
    "print(\"create the ensemble model...\")\n",
    "estimators = [('svc', svc_model), ('logistic', logistic_model), ('xgb', xgb_model)]\n",
    "stacking_model = StackingClassifier(estimators=estimators, final_estimator=XGBClassifier())\n",
    "\n",
    "# fit the ensemble model on the training data\n",
    "print(\"fit the ensemble model on the training data...\")\n",
    "stacking_model.fit(X_train, y_train)\n",
    "\n",
    "# evaluate the model on the validation set\n",
    "print(\"evaluate the model on the validation set...\")\n",
    "y_pred = stacking_model.predict(X_val)\n",
    "f1_macro = f1_score(y_val, y_pred, average='macro')\n",
    "print('Validation F1-score (macro):', f1_macro)\n",
    "\n",
    "# make predictions on the test data\n",
    "print(\"make predictions on the test data...\")\n",
    "X_test = vectorizer.transform(test_df['text'])\n",
    "y_test_pred = stacking_model.predict(X_test)\n",
    "\n",
    "# save the predictions to a CSV file\n",
    "print(\"save the predictions to a CSV file...\")\n",
    "submission_df['label'] = y_test_pred.astype(np.int64)\n",
    "submission_df.to_csv('./data/submission_stacking_final_xgb_tfidf.csv', index=False)"
   ]
  },
  {
   "cell_type": "markdown",
   "id": "abd093bc",
   "metadata": {},
   "source": [
    "#### parameter input"
   ]
  },
  {
   "cell_type": "code",
   "execution_count": null,
   "id": "e3d8f28e",
   "metadata": {},
   "outputs": [],
   "source": [
    "# param_grid = {\n",
    "#     'learning_rate': [0.1, 0.3, 0.5],\n",
    "#     'max_depth': [3, 5, 7],\n",
    "#     'n_estimators': [50, 100, 150]\n",
    "# }"
   ]
  },
  {
   "cell_type": "code",
   "execution_count": null,
   "id": "1e728f01",
   "metadata": {
    "scrolled": true
   },
   "outputs": [],
   "source": [
    "stacking_model = StackingClassifier(estimators=estimators, final_estimator=XGBClassifier(max_depth=3, learning_rate=0.1, n_estimators=50))\n",
    "\n",
    "# fit the ensemble model on the training data\n",
    "print(\"fit the ensemble model on the training data...\")\n",
    "stacking_model.fit(X_train, y_train)\n",
    "\n",
    "# evaluate the model on the validation set\n",
    "print(\"evaluate the model on the validation set...\")\n",
    "y_pred = stacking_model.predict(X_val)\n",
    "f1_macro = f1_score(y_val, y_pred, average='macro')\n",
    "print('Validation F1-score (macro):', f1_macro)\n",
    "\n",
    "# make predictions on the test data\n",
    "print(\"make predictions on the test data...\")\n",
    "X_test = vectorizer.transform(test_df['text'])\n",
    "y_test_pred = stacking_model.predict(X_test)\n",
    "\n",
    "# save the predictions to a CSV file\n",
    "print(\"save the predictions to a CSV file...\")\n",
    "submission_df['label'] = y_test_pred.astype(np.int64)\n",
    "submission_df.to_csv('./data/submission_stacking_final_xgb.csv', index=False)"
   ]
  },
  {
   "cell_type": "code",
   "execution_count": null,
   "id": "7ac84a4f",
   "metadata": {
    "scrolled": true
   },
   "outputs": [],
   "source": [
    "stacking_model = StackingClassifier(estimators=estimators, final_estimator=XGBClassifier(max_depth=5, learning_rate=0.1, n_estimators=50))\n",
    "\n",
    "# fit the ensemble model on the training data\n",
    "print(\"fit the ensemble model on the training data...\")\n",
    "stacking_model.fit(X_train, y_train)\n",
    "\n",
    "# evaluate the model on the validation set\n",
    "print(\"evaluate the model on the validation set...\")\n",
    "y_pred = stacking_model.predict(X_val)\n",
    "f1_macro = f1_score(y_val, y_pred, average='macro')\n",
    "print('Validation F1-score (macro):', f1_macro)\n",
    "\n",
    "# make predictions on the test data\n",
    "print(\"make predictions on the test data...\")\n",
    "X_test = vectorizer.transform(test_df['text'])\n",
    "y_test_pred = stacking_model.predict(X_test)\n",
    "\n",
    "# save the predictions to a CSV file\n",
    "print(\"save the predictions to a CSV file...\")\n",
    "submission_df['label'] = y_test_pred.astype(np.int64)\n",
    "submission_df.to_csv('./data/submission_stacking_final_xgb.csv', index=False)"
   ]
  },
  {
   "cell_type": "markdown",
   "id": "c72c5664",
   "metadata": {},
   "source": [
    "#### final - LinearSVC"
   ]
  },
  {
   "cell_type": "code",
   "execution_count": null,
   "id": "f2b87540",
   "metadata": {
    "scrolled": true
   },
   "outputs": [],
   "source": [
    "### ------------------------------------------------------------------------------------\n",
    "stacking_model = StackingClassifier(estimators=estimators, final_estimator=LinearSVC())\n",
    "\n",
    "# fit the ensemble model on the training data\n",
    "print(\"fit the ensemble model on the training data...\")\n",
    "stacking_model.fit(X_train, y_train)\n",
    "\n",
    "# evaluate the model on the validation set\n",
    "print(\"evaluate the model on the validation set...\")\n",
    "y_pred = stacking_model.predict(X_val)\n",
    "f1_macro = f1_score(y_val, y_pred, average='macro')\n",
    "print('Validation F1-score (macro):', f1_macro)\n",
    "\n",
    "# make predictions on the test data\n",
    "print(\"make predictions on the test data...\")\n",
    "X_test = vectorizer.transform(test_df['text'])\n",
    "y_test_pred = stacking_model.predict(X_test)\n",
    "\n",
    "# save the predictions to a CSV file\n",
    "print(\"save the predictions to a CSV file...\")\n",
    "# submission_df['label'] = y_test_pred.astype(np.int64)\n",
    "# submission_df.to_csv('./data/submission_stacking_final_svm.csv', index=False)"
   ]
  },
  {
   "cell_type": "markdown",
   "id": "73b00570",
   "metadata": {},
   "source": [
    "#### final - CatBoostClassifier"
   ]
  },
  {
   "cell_type": "code",
   "execution_count": null,
   "id": "ceea39c2",
   "metadata": {
    "scrolled": true
   },
   "outputs": [],
   "source": [
    "from catboost import CatBoostClassifier\n",
    "\n",
    "### ------------------------------------------------------------------------------------\n",
    "stacking_model = StackingClassifier(estimators=estimators, final_estimator=CatBoostClassifier())\n",
    "\n",
    "# fit the ensemble model on the training data\n",
    "print(\"fit the ensemble model on the training data...\")\n",
    "stacking_model.fit(X_train, y_train)\n",
    "\n",
    "# evaluate the model on the validation set\n",
    "print(\"evaluate the model on the validation set...\")\n",
    "y_pred = stacking_model.predict(X_val)\n",
    "f1_macro = f1_score(y_val, y_pred, average='macro')\n",
    "print('Validation F1-score (macro):', f1_macro)\n",
    "\n",
    "# make predictions on the test data\n",
    "print(\"make predictions on the test data...\")\n",
    "X_test = vectorizer.transform(test_df['text'])\n",
    "y_test_pred = stacking_model.predict(X_test)\n",
    "\n",
    "# save the predictions to a CSV file\n",
    "print(\"save the predictions to a CSV file...\")\n",
    "# submission_df['label'] = y_test_pred.astype(np.int64)\n",
    "# submission_df.to_csv('./data/submission_stacking_final_svm.csv', index=False)"
   ]
  },
  {
   "cell_type": "markdown",
   "id": "3f02ea2c",
   "metadata": {},
   "source": [
    "#### final - RandomForestClassifier"
   ]
  },
  {
   "cell_type": "code",
   "execution_count": null,
   "id": "55105ed4",
   "metadata": {
    "scrolled": true
   },
   "outputs": [],
   "source": [
    "from sklearn.ensemble import RandomForestClassifier\n",
    "\n",
    "### ------------------------------------------------------------------------------------\n",
    "stacking_model = StackingClassifier(estimators=estimators, final_estimator=RandomForestClassifier())\n",
    "\n",
    "# fit the ensemble model on the training data\n",
    "print(\"fit the ensemble model on the training data...\")\n",
    "stacking_model.fit(X_train, y_train)\n",
    "\n",
    "# evaluate the model on the validation set\n",
    "print(\"evaluate the model on the validation set...\")\n",
    "y_pred = stacking_model.predict(X_val)\n",
    "f1_macro = f1_score(y_val, y_pred, average='macro')\n",
    "print('Validation F1-score (macro):', f1_macro)\n",
    "\n",
    "# make predictions on the test data\n",
    "print(\"make predictions on the test data...\")\n",
    "X_test = vectorizer.transform(test_df['text'])\n",
    "y_test_pred = stacking_model.predict(X_test)\n",
    "\n",
    "# save the predictions to a CSV file\n",
    "print(\"save the predictions to a CSV file...\")\n",
    "# submission_df['label'] = y_test_pred.astype(np.int64)\n",
    "# submission_df.to_csv('./data/submission_stacking_final_svm.csv', index=False)"
   ]
  },
  {
   "cell_type": "markdown",
   "id": "3b7b9684",
   "metadata": {},
   "source": [
    "#### final - lgbm"
   ]
  },
  {
   "cell_type": "code",
   "execution_count": null,
   "id": "95cde580",
   "metadata": {
    "scrolled": true
   },
   "outputs": [],
   "source": [
    "from lightgbm import LGBMClassifier\n",
    "\n",
    "### ------------------------------------------------------------------------------------\n",
    "stacking_model = StackingClassifier(estimators=estimators, final_estimator=LGBMClassifier())\n",
    "\n",
    "# fit the ensemble model on the training data\n",
    "print(\"fit the ensemble model on the training data...\")\n",
    "stacking_model.fit(X_train, y_train)\n",
    "\n",
    "# evaluate the model on the validation set\n",
    "print(\"evaluate the model on the validation set...\")\n",
    "y_pred = stacking_model.predict(X_val)\n",
    "f1_macro = f1_score(y_val, y_pred, average='macro')\n",
    "print('Validation F1-score (macro):', f1_macro)\n",
    "\n",
    "# make predictions on the test data\n",
    "print(\"make predictions on the test data...\")\n",
    "X_test = vectorizer.transform(test_df['text'])\n",
    "y_test_pred = stacking_model.predict(X_test)\n",
    "\n",
    "# save the predictions to a CSV file\n",
    "print(\"save the predictions to a CSV file...\")\n",
    "# submission_df['label'] = y_test_pred.astype(np.int64)\n",
    "# submission_df.to_csv('./data/submission_stacking_final_svm.csv', index=False)"
   ]
  },
  {
   "cell_type": "markdown",
   "id": "0604c600",
   "metadata": {},
   "source": [
    "#### final - knn"
   ]
  },
  {
   "cell_type": "code",
   "execution_count": null,
   "id": "0f440085",
   "metadata": {
    "scrolled": true
   },
   "outputs": [],
   "source": [
    "from sklearn.neighbors import KNeighborsClassifier\n",
    "\n",
    "### ------------------------------------------------------------------------------------\n",
    "stacking_model = StackingClassifier(estimators=estimators, final_estimator=KNeighborsClassifier())\n",
    "\n",
    "# fit the ensemble model on the training data\n",
    "print(\"fit the ensemble model on the training data...\")\n",
    "stacking_model.fit(X_train, y_train)\n",
    "\n",
    "# evaluate the model on the validation set\n",
    "print(\"evaluate the model on the validation set...\")\n",
    "y_pred = stacking_model.predict(X_val)\n",
    "f1_macro = f1_score(y_val, y_pred, average='macro')\n",
    "print('Validation F1-score (macro):', f1_macro)\n",
    "\n",
    "# make predictions on the test data\n",
    "print(\"make predictions on the test data...\")\n",
    "X_test = vectorizer.transform(test_df['text'])\n",
    "y_test_pred = stacking_model.predict(X_test)\n",
    "\n",
    "# save the predictions to a CSV file\n",
    "print(\"save the predictions to a CSV file...\")\n",
    "# submission_df['label'] = y_test_pred.astype(np.int64)\n",
    "# submission_df.to_csv('./data/submission_stacking_final_svm.csv', index=False)"
   ]
  },
  {
   "cell_type": "markdown",
   "id": "569c4ae3",
   "metadata": {},
   "source": [
    "#### final - gbc"
   ]
  },
  {
   "cell_type": "code",
   "execution_count": null,
   "id": "6b34fe11",
   "metadata": {
    "scrolled": true
   },
   "outputs": [],
   "source": [
    "from sklearn.ensemble import GradientBoostingClassifier\n",
    "\n",
    "### ------------------------------------------------------------------------------------\n",
    "stacking_model = StackingClassifier(estimators=estimators, final_estimator=GradientBoostingClassifier())\n",
    "\n",
    "# fit the ensemble model on the training data\n",
    "print(\"fit the ensemble model on the training data...\")\n",
    "stacking_model.fit(X_train, y_train)\n",
    "\n",
    "# evaluate the model on the validation set\n",
    "print(\"evaluate the model on the validation set...\")\n",
    "y_pred = stacking_model.predict(X_val)\n",
    "f1_macro = f1_score(y_val, y_pred, average='macro')\n",
    "print('Validation F1-score (macro):', f1_macro)\n",
    "\n",
    "# make predictions on the test data\n",
    "print(\"make predictions on the test data...\")\n",
    "X_test = vectorizer.transform(test_df['text'])\n",
    "y_test_pred = stacking_model.predict(X_test)\n",
    "\n",
    "# save the predictions to a CSV file\n",
    "print(\"save the predictions to a CSV file...\")\n",
    "# submission_df['label'] = y_test_pred.astype(np.int64)\n",
    "# submission_df.to_csv('./data/submission_stacking_final_svm.csv', index=False)"
   ]
  },
  {
   "cell_type": "markdown",
   "id": "c0259204",
   "metadata": {},
   "source": [
    "#### final - ada"
   ]
  },
  {
   "cell_type": "code",
   "execution_count": null,
   "id": "dcd9a9a9",
   "metadata": {
    "scrolled": true
   },
   "outputs": [],
   "source": [
    "from sklearn.ensemble import AdaBoostClassifier\n",
    "\n",
    "### ------------------------------------------------------------------------------------\n",
    "stacking_model = StackingClassifier(estimators=estimators, final_estimator=AdaBoostClassifier())\n",
    "\n",
    "# fit the ensemble model on the training data\n",
    "print(\"fit the ensemble model on the training data...\")\n",
    "stacking_model.fit(X_train, y_train)\n",
    "\n",
    "# evaluate the model on the validation set\n",
    "print(\"evaluate the model on the validation set...\")\n",
    "y_pred = stacking_model.predict(X_val)\n",
    "f1_macro = f1_score(y_val, y_pred, average='macro')\n",
    "print('Validation F1-score (macro):', f1_macro)\n",
    "\n",
    "# make predictions on the test data\n",
    "print(\"make predictions on the test data...\")\n",
    "X_test = vectorizer.transform(test_df['text'])\n",
    "y_test_pred = stacking_model.predict(X_test)\n",
    "\n",
    "# save the predictions to a CSV file\n",
    "print(\"save the predictions to a CSV file...\")\n",
    "# submission_df['label'] = y_test_pred.astype(np.int64)\n",
    "# submission_df.to_csv('./data/submission_stacking_final_svm.csv', index=False)"
   ]
  },
  {
   "cell_type": "markdown",
   "id": "6265e521",
   "metadata": {},
   "source": [
    "### xgboost"
   ]
  },
  {
   "cell_type": "code",
   "execution_count": null,
   "id": "edf7a917",
   "metadata": {},
   "outputs": [],
   "source": [
    "predictions = [k[0] for k in y_pred]\n",
    "submission_df = pd.DataFrame({'id': test_df['id'], 'label': predictions})\n",
    "submission_df.to_csv('./data/submission_catb_tuned.csv', index=False)\n",
    "\n",
    "# Evaluate model on validation set\n",
    "y_val_pred = grid_search.predict(val_feature)\n",
    "f1 = f1_score(val_label, y_val_pred, average='macro')\n",
    "print(\"Validation F1 score:\", f1)"
   ]
  },
  {
   "cell_type": "code",
   "execution_count": null,
   "id": "58666906",
   "metadata": {},
   "outputs": [],
   "source": [
    "import pandas as pd\n",
    "from sklearn.feature_extraction.text import CountVectorizer\n",
    "from sklearn.model_selection import train_test_split\n",
    "from sklearn.metrics import f1_score\n",
    "import xgboost as xgb\n",
    "\n",
    "# Load the training data\n",
    "train_data = pd.read_csv(\"./data/train.csv\")\n",
    "\n",
    "# Preprocess the text data using CountVectorizer\n",
    "vectorizer = CountVectorizer(stop_words='english')\n",
    "X = vectorizer.fit_transform(train_data[\"text\"]).astype('float64')\n",
    "y = train_data[\"label\"]\n",
    "\n",
    "# Split the data into training and validation sets\n",
    "X_train, X_val, y_train, y_val = train_test_split(X, y, test_size=0.2, random_state=42)\n",
    "\n",
    "# Train an XGBoost model\n",
    "xgboost_model = xgb.XGBClassifier(n_estimators=100, learning_rate=0.1, max_depth=6, objective='multi:softmax', num_class=8)\n",
    "xgboost_model.fit(X_train, y_train, eval_set=[(X_val, y_val)], eval_metric='merror', verbose=10)\n",
    "\n",
    "# Load the test data and preprocess using the same vectorizer\n",
    "test_data = pd.read_csv(\"./data/test.csv\")\n",
    "X_test = vectorizer.transform(test_data[\"text\"]).astype('float64')\n",
    "\n",
    "# Make predictions on the test data and save to submission file\n",
    "test_data[\"label\"] = xgboost_model.predict(X_test)\n",
    "test_data[[\"id\", \"label\"]].to_csv(\"./data/submission_first.csv\", index=False)"
   ]
  },
  {
   "cell_type": "markdown",
   "id": "6e9e5a21",
   "metadata": {},
   "source": [
    "# best1"
   ]
  },
  {
   "cell_type": "code",
   "execution_count": null,
   "id": "4feda174",
   "metadata": {
    "scrolled": true
   },
   "outputs": [],
   "source": [
    "import pandas as pd\n",
    "import numpy as np\n",
    "from sklearn.feature_extraction.text import CountVectorizer\n",
    "from sklearn.model_selection import train_test_split\n",
    "from sklearn.utils import class_weight\n",
    "import xgboost as xgb\n",
    "from sklearn.metrics import f1_score\n",
    "\n",
    "# Load the training data\n",
    "print(\"Loading training data...\")\n",
    "train_df = pd.read_csv('./data/train.csv')\n",
    "\n",
    "# Preprocess the text data by converting it to lowercase using CountVectorizer\n",
    "print(\"Preprocessing text data...\")\n",
    "vectorizer = CountVectorizer(stop_words='english', lowercase=True)\n",
    "X = vectorizer.fit_transform(train_df['text'])\n",
    "y = train_df['label']\n",
    "\n",
    "# Split the data into training and validation sets\n",
    "print(\"Splitting data into training and validation sets...\")\n",
    "X_train, X_val, y_train, y_val = train_test_split(X, y, test_size=0.2, random_state=42,stratify=y)\n",
    "\n",
    "# Convert the data types of the features to float64\n",
    "print(\"Converting data types to float64...\")\n",
    "X_train = X_train.astype(np.float64)\n",
    "X_val = X_val.astype(np.float64)\n",
    "\n",
    "# Calculate class weights to handle imbalanced data\n",
    "print(\"Calculating class weights...\")\n",
    "# class_weights = class_weight.compute_class_weight(class_weight='balanced', classes=np.unique(y_train), y=y_train)\n",
    "classes_weights = class_weight.compute_sample_weight(\n",
    "    class_weight='balanced',\n",
    "    y=y_train\n",
    ")\n",
    "\n",
    "# Train an XGBoost model on the training set\n",
    "print(\"Training XGBoost model...\")\n",
    "# xgb_model = xgb.XGBClassifier(objective='multi:softmax', num_classes=8, max_depth=6, learning_rate=0.5, n_estimators=150, random_state=42)\n",
    "xgb_model = xgb.XGBClassifier(objective='multi:softmax', max_depth=6, learning_rate=0.5, n_estimators=150, random_state=42)\n",
    "xgb_model.fit(X_train, y_train, eval_set=[(X_val, y_val)], early_stopping_rounds=10, eval_metric='mlogloss', sample_weight=classes_weights, verbose=True)\n",
    "\n",
    "# Make predictions on the validation set\n",
    "print(\"Making predictions on the validation set...\")\n",
    "y_pred = xgb_model.predict(X_val)\n",
    "\n",
    "# Evaluate the model using the macro f1 score\n",
    "print(\"Evaluating the model...\")\n",
    "f1 = f1_score(y_val, y_pred, average='macro')\n",
    "print('Macro F1 score:', f1)\n",
    "\n",
    "# Load the test data\n",
    "print(\"Loading test data...\")\n",
    "test_df = pd.read_csv('./data/test.csv')\n",
    "\n",
    "# Preprocess the text data using CountVectorizer\n",
    "print(\"Preprocessing test text data...\")\n",
    "X_test = vectorizer.transform(test_df['text'])\n",
    "X_test = X_test.astype(np.float64)\n",
    "\n",
    "# Make predictions on the test set\n",
    "print(\"Making predictions on the test set...\")\n",
    "test_pred = xgb_model.predict(X_test)\n",
    "\n",
    "# Save the predictions to a submission file\n",
    "print(\"Saving predictions to submission file...\")\n",
    "submission_df = pd.DataFrame({'id': test_df['id'], 'label': test_pred})\n",
    "submission_df.to_csv('./data/sample_submission_xgb_class_weight_lower.csv', index=False)"
   ]
  }
 ],
 "metadata": {
  "kernelspec": {
   "display_name": "Python 3 (ipykernel)",
   "language": "python",
   "name": "python3"
  },
  "language_info": {
   "codemirror_mode": {
    "name": "ipython",
    "version": 3
   },
   "file_extension": ".py",
   "mimetype": "text/x-python",
   "name": "python",
   "nbconvert_exporter": "python",
   "pygments_lexer": "ipython3",
   "version": "3.9.13"
  }
 },
 "nbformat": 4,
 "nbformat_minor": 5
}
